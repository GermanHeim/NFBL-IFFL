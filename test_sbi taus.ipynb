{
 "cells": [
  {
   "cell_type": "code",
   "execution_count": null,
   "metadata": {},
   "outputs": [],
   "source": [
    "# %pip install torch\n",
    "# %pip install sbi\n",
    "# %pip install scipy\n",
    "# %pip install ipywidgets"
   ]
  },
  {
   "cell_type": "code",
   "execution_count": 2,
   "metadata": {},
   "outputs": [],
   "source": [
    "# math, numpy and torch\n",
    "import math\n",
    "import numpy as np\n",
    "import torch\n",
    "\n",
    "#SBI\n",
    "from sbi import utils as utils\n",
    "from sbi import analysis as analysis\n",
    "from sbi.inference.base import infer\n",
    "\n",
    "# SciPy\n",
    "from scipy.integrate import solve_ivp\n",
    "from scipy.signal import find_peaks\n",
    "\n",
    "# Visualization\n",
    "import matplotlib as mpl\n",
    "import matplotlib.pyplot as plt"
   ]
  },
  {
   "cell_type": "code",
   "execution_count": 3,
   "metadata": {},
   "outputs": [],
   "source": [
    "# Constantes\n",
    "torch.manual_seed(0)\n",
    "tf = 50 # Cambiar\n",
    "dt = 0.001\n",
    "N = round(tf/dt)\n",
    "t = np.arange(0, tf, dt)\n",
    "\n",
    "tspan = [0, tf]\n",
    "c0 = [0, 0]\n",
    "\n",
    "mpl.rcParams[\"axes.spines.right\"] = False\n",
    "mpl.rcParams[\"axes.spines.top\"] = False\n",
    "plt.style.use(\"seaborn-v0_8-whitegrid\")\n",
    "mpl.rcParams['figure.dpi'] = 100\n",
    "mpl.rcParams['savefig.dpi'] = 600"
   ]
  },
  {
   "cell_type": "code",
   "execution_count": 4,
   "metadata": {},
   "outputs": [],
   "source": [
    "# NFBL params\n",
    "k1, k2, k3, k4, Ac, As, xi= 1, 1, 0.05, 0.05, 1, 1, 0 # Cambiar\n",
    "\n",
    "def system(t, z, k1, k2, k3, k4, Ac, As, xi):\n",
    "    \"\"\"\n",
    "    This function returns the ODE system.\n",
    "\n",
    "    Args:\n",
    "        t (paramter): time (optional)\n",
    "        z (list): state variables\n",
    "        k1 (float): k1 constant\n",
    "        k2 (float): k2 constant\n",
    "        k3 (float): k3 constant\n",
    "        k4 (float): k4 constant\n",
    "        Ac (float): Ac constant\n",
    "        As (float): As constant\n",
    "        xi (float): xi constant\n",
    "    \n",
    "    Returns:\n",
    "        list: ODE system\n",
    "    \"\"\"\n",
    "    x, y = z\n",
    "    return [- k1*x - k2*y + Ac + As, k3*x - k4*y + xi*Ac + xi*As]\n",
    "\n",
    "def simulator(k1, k2, k3, k4, Ac, As, xi):\n",
    "    \"\"\"Solves the ODE system using the SciPy solver.\n",
    "\n",
    "    Args:\n",
    "        k1 (float): k1 constant\n",
    "        k2 (float): k2 constant\n",
    "        k3 (float): k3 constant\n",
    "        k4 (float): k4 constant\n",
    "        Ac (float): Ac constant\n",
    "        As (float): As constant\n",
    "        xi (float): xi constant\n",
    "\n",
    "    Returns:\n",
    "        The solution of the ODE system.\n",
    "    \"\"\"\n",
    "    return solve_ivp(system, tspan, c0, args = (k1, k2, k3, k4, Ac, As, xi), t_eval = t) # Paso explicito"
   ]
  },
  {
   "cell_type": "code",
   "execution_count": 5,
   "metadata": {},
   "outputs": [],
   "source": [
    "# true parameters and respective labels\n",
    "true_params = np.array([k1, k2, k3, k4, Ac, As, xi])\n",
    "labels_params = [r\"$k_{1}$\", r\"$k_{2}$\", r\"$k_{3}$\", r\"$k_{4}$\", r\"$A_{c}$\", r\"$A_{s}$\", r\"$\\xi$\"]\n",
    "\n",
    "observation_trace = simulator(true_params[0], true_params[1], true_params[2], true_params[3], true_params[4], true_params[5], true_params[6])\n",
    "\n",
    "def calculate_summary_statistics(x):\n",
    "    \"\"\"Calculates the summary statistics (attributes) of the system.\n",
    "\n",
    "    Args:\n",
    "        x (array): The system state variable.\n",
    "\n",
    "    Returns:\n",
    "        A numpy array with the summary statistics (attributes) of the system\n",
    "    \"\"\"\n",
    "    \n",
    "    if np.any(x < 0): # Not a valid simulation\n",
    "        return np.array([math.nan, math.nan, math.nan])\n",
    "    else:\n",
    "        # Check if the system presents oscillations\n",
    "        peaks, _ = find_peaks(x, height=0.1, prominence=0.1)\n",
    "        if len(peaks) > 1:\n",
    "            # The system has oscillations\n",
    "            return np.array([math.nan, math.nan, math.nan])\n",
    "        \n",
    "        dt = 0.001 # Setear, quizas como parametro?\n",
    "        \n",
    "        # Peak\n",
    "        # I don't want to use find_peaks for this since I have the min height and min prominence\n",
    "        tol = 1e-2\n",
    "        Xpeak = np.max(x)\n",
    "        Tpeak = np.where(x == Xpeak)[0][0] * dt\n",
    "        \n",
    "        tau1 = np.where(x >= Xpeak*0.63)[0][0] * dt\n",
    "        \n",
    "        # Check that if the last value of x is close to the last five second value in the tolerance\n",
    "        # If it is, then the system has (probably) reached the steady state\n",
    "        if np.isclose(x[-1], x[-5000], atol=tol): # five second\n",
    "            x_ss = x[-1]\n",
    "        else:\n",
    "            x_ss = math.nan\n",
    "        \n",
    "        tau2_index = np.where(np.isclose(x, x_ss + (Xpeak - x_ss)*0.37, atol=tol))\n",
    "        \n",
    "        # Grab first index where tau2 * dt is greater than Tpeak\n",
    "        tol_tau2 = 1e-2;\n",
    "        try:\n",
    "            tau2_index = tau2_index[0][tau2_index[0] > Tpeak/dt][0]\n",
    "            tau2 = tau2_index*dt\n",
    "            if Xpeak < x_ss+tol_tau2 and Xpeak > x_ss-tol_tau2 or math.isnan(tau2): # This is if there isn't a peak, therefor no tau2\n",
    "                tau2 = math.nan\n",
    "        except:\n",
    "            tau2 = math.nan\n",
    "        \n",
    "        # Jonah tambien usa Skew y Kurtosis, es otra posibilidad\n",
    "        # return np.array([tau1, tau2, x_ss, Xpeak])\n",
    "        return np.array([tau1, tau2, x_ss, Xpeak])\n",
    "\n",
    "observation_summary_statistics = calculate_summary_statistics(observation_trace.y[0]) #y[0] = x, y[1] = y"
   ]
  },
  {
   "cell_type": "code",
   "execution_count": 6,
   "metadata": {},
   "outputs": [
    {
     "name": "stdout",
     "output_type": "stream",
     "text": [
      "Tau 1, Tau 2, Xss\n",
      "[ 0.836      13.395       1.00593467  1.78770635]\n"
     ]
    },
    {
     "data": {
      "image/png": "[encoded data removed]",
      "text/plain": [
       "<Figure size 640x480 with 1 Axes>"
      ]
     },
     "metadata": {},
     "output_type": "display_data"
    }
   ],
   "source": [
    "k1, k2, k3, k4, Ac, As, xi= 1, 1, 0.05, 0.05, 1, 1, 0\n",
    "\n",
    "# Plot ODE +  Stats\n",
    "sol = simulator(k1, k2, k3, k4, Ac, As, xi)\n",
    "plt.plot(sol.t, sol.y[0], label=\"Simulation\")\n",
    "\n",
    "stats = calculate_summary_statistics(sol.y[0])\n",
    "print(\"Tau 1, Tau 2, Xss\")\n",
    "print(stats)\n",
    "\n",
    "# If we return Xpeak:\n",
    "try:\n",
    "    plt.plot(stats[0], stats[3]*0.63, 'o', label=\"Tau 1\", markersize=6)\n",
    "    plt.plot(stats[1], stats[2] + (stats[3] - stats[2])*0.37, 'o', label=\"Tau 2\", markersize=6)\n",
    "except:\n",
    "    pass\n",
    "\n",
    "plt.xlabel('Time')\n",
    "plt.ylabel('x')\n",
    "plt.xlim(0-0.1, tf)\n",
    "plt.plot(tf, stats[2], 'o', label=\"Steady State\", markersize=6)\n",
    "plt.legend(frameon=True, facecolor=\"white\", edgecolor=\"black\")\n",
    "plt.show()"
   ]
  },
  {
   "cell_type": "code",
   "execution_count": 7,
   "metadata": {},
   "outputs": [],
   "source": [
    "# Pregunta: Queremos pasarle estadisticas (simulation wrapper) o el output de la simulacion (simulator) (es decir, que busque\n",
    "# el exact trace) a la red neuronal?\n",
    "def simulation_wrapper(params):\n",
    "    \"\"\"\n",
    "    Returns summary statistics from the model results using `params`.\n",
    "\n",
    "    Summarizes the output of the simulator and converts it to `torch.Tensor`.\n",
    "    \"\"\"\n",
    "    obs = simulator(params[0], params[1], params[2], params[3], params[4], params[5], params[6]).y[0] #y[0] = x\n",
    "    stats = torch.as_tensor(calculate_summary_statistics(obs))\n",
    "    return stats"
   ]
  },
  {
   "cell_type": "code",
   "execution_count": 8,
   "metadata": {},
   "outputs": [
    {
     "data": {
      "application/vnd.jupyter.widget-view+json": {
       "model_id": "60b2354a75de4700a9db3b1e82e06b66",
       "version_major": 2,
       "version_minor": 0
      },
      "text/plain": [
       "Running 25000 simulations in 25000 batches.:   0%|          | 0/25000 [00:00<?, ?it/s]"
      ]
     },
     "metadata": {},
     "output_type": "display_data"
    }
   ],
   "source": [
    "num_dim = 7; # Cantidad de inputs\n",
    "\n",
    "prior_min = [0, 0, 0, 0, 0, 0, 0]\n",
    "prior_max = [2, 2, 0.5, 0.5, 2, 2, 1]\n",
    "prior = utils.torchutils.BoxUniform(low=torch.as_tensor(prior_min), high=torch.as_tensor(prior_max))\n",
    "\n",
    "#prior = utils.BoxUniform(low = 0*torch.ones(num_dim), high = 2*torch.ones(num_dim))\n",
    "\n",
    "# A infer hay que pasarle el wrapper del simulator, no el simulator\n",
    "posterior = infer(simulation_wrapper, prior, method=\"SNPE\", num_simulations=25000, num_workers=3) # paralellizable, do NOT use Python 3.11"
   ]
  },
  {
   "cell_type": "code",
   "execution_count": null,
   "metadata": {},
   "outputs": [],
   "source": [
    "samples = posterior.sample((150000,), x=observation_summary_statistics)\n",
    "\n",
    "fig, axes = analysis.pairplot(\n",
    "    samples,\n",
    "    figsize=(5, 5),\n",
    "    points=true_params,\n",
    "    points_offdiag={\"markersize\": 6},\n",
    "    points_colors=\"r\",\n",
    ");"
   ]
  },
  {
   "cell_type": "code",
   "execution_count": null,
   "metadata": {},
   "outputs": [],
   "source": [
    "posterior_sample = posterior.sample((1,), x=observation_summary_statistics).numpy()\n",
    "fig = plt.figure(figsize=(7, 5))\n",
    "\n",
    "# plot observation\n",
    "t = observation_trace.t\n",
    "y_obs = observation_trace.y[0]\n",
    "plt.plot(t, y_obs, lw=2, label=\"observation\")\n",
    "print(\" --- Parameters estimated --- \")\n",
    "print(posterior_sample)\n",
    "print(\" --- Tau 1, Tau 2, X steady state --- \")\n",
    "print(simulation_wrapper(posterior_sample[0]))\n",
    "print(\"0.863, 13.395, 1.0059\")\n",
    "\n",
    "# simulate and plot samples from the posterior\n",
    "x = simulator(posterior_sample[0][0], posterior_sample[0][1], posterior_sample[0][2], posterior_sample[0][3], posterior_sample[0][4], posterior_sample[0][5], posterior_sample[0][6])\n",
    "plt.plot(x.t, x.y[0], \"--\", lw=2, label=\"posterior sample\")\n",
    "\n",
    "# plt.plot(stats[1], stats[0], 'o', label=\"Peak\", markersize=6) #tpeak es en x, xpeak es en y\n",
    "# plt.plot(stats[3], stats[2], 'o', label=\"Midpoint\", markersize=6)\n",
    "plt.xlabel('Time')\n",
    "plt.ylabel('x')\n",
    "plt.xlim(0-0.1, tf)\n",
    "# plt.ylim(0, stats[0]*1.05)\n",
    "# plt.plot(stats[5], stats[4], 'o', label=\"Steady State\", markersize=6)\n",
    "plt.legend(frameon=True, facecolor=\"white\", edgecolor=\"black\")\n",
    "\n",
    "plt.xlabel(\"Time\")\n",
    "plt.ylabel(\"x\")\n",
    "\n",
    "ax = plt.gca()\n",
    "handles, labels = ax.get_legend_handles_labels()\n",
    "ax.legend(handles[::-1], labels[::-1], bbox_to_anchor=(1.3, 1), loc=\"upper right\")"
   ]
  }
 ],
 "metadata": {
  "kernelspec": {
   "display_name": "Python 3",
   "language": "python",
   "name": "python3"
  },
  "language_info": {
   "codemirror_mode": {
    "name": "ipython",
    "version": 3
   },
   "file_extension": ".py",
   "mimetype": "text/x-python",
   "name": "python",
   "nbconvert_exporter": "python",
   "pygments_lexer": "ipython3",
   "version": "3.10.12"
  }
 },
 "nbformat": 4,
 "nbformat_minor": 2
}
