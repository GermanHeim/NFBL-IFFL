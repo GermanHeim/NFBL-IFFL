{
 "cells": [
  {
   "cell_type": "code",
   "execution_count": 1,
   "metadata": {},
   "outputs": [],
   "source": [
    "import matplotlib.pyplot as plt\n",
    "import numpy as np\n",
    "import pandas as pd"
   ]
  },
  {
   "cell_type": "code",
   "execution_count": 2,
   "metadata": {},
   "outputs": [],
   "source": [
    "from sklearn.discriminant_analysis import QuadraticDiscriminantAnalysis\n",
    "from sklearn.ensemble import AdaBoostClassifier, RandomForestClassifier\n",
    "from sklearn.gaussian_process import GaussianProcessClassifier\n",
    "from sklearn.gaussian_process.kernels import RBF\n",
    "from sklearn.inspection import DecisionBoundaryDisplay\n",
    "from sklearn.model_selection import train_test_split\n",
    "from sklearn.naive_bayes import GaussianNB\n",
    "from sklearn.neighbors import KNeighborsClassifier\n",
    "from sklearn.neural_network import MLPClassifier\n",
    "from sklearn.pipeline import make_pipeline\n",
    "from sklearn.preprocessing import StandardScaler\n",
    "from sklearn.svm import SVC\n",
    "from sklearn.tree import DecisionTreeClassifier\n",
    "\n",
    "names = [\n",
    "    \"Nearest Neighbors\",\n",
    "    \"Linear SVM\",\n",
    "    \"RBF SVM\",\n",
    "    \"Decision Tree\",\n",
    "    \"Random Forest\",\n",
    "    \"Neural Net\",\n",
    "    \"AdaBoost\",\n",
    "    \"Naive Bayes\",\n",
    "    \"QDA\",\n",
    "]\n",
    "\n",
    "classifiers = [\n",
    "    KNeighborsClassifier(5),\n",
    "    SVC(kernel=\"linear\", C=0.025, random_state=50),\n",
    "    SVC(gamma=2, C=1, random_state=50),\n",
    "    DecisionTreeClassifier(max_depth=5, random_state=50),\n",
    "    RandomForestClassifier(\n",
    "        max_depth=5, n_estimators=10, max_features=1, random_state=50\n",
    "    ),\n",
    "    MLPClassifier(alpha=1, max_iter=1000, random_state=50),\n",
    "    AdaBoostClassifier(algorithm=\"SAMME\", random_state=50),\n",
    "    GaussianNB(),\n",
    "    QuadraticDiscriminantAnalysis(),\n",
    "]"
   ]
  },
  {
   "cell_type": "code",
   "execution_count": 3,
   "metadata": {},
   "outputs": [],
   "source": [
    "# Import data.csv and labels.csv as pandas DataFrames\n",
    "data = pd.read_csv(\"data_dif_curves_noise_ysum.csv\", header=None)\n",
    "labels = pd.read_csv(\"labels.csv\", header=None)\n",
    "\n",
    "# Convert DataFrames to numpy arrays\n",
    "data = data.values\n",
    "labels = labels.values\n",
    "\n",
    "# Shuffle the data and labels, split into training and testing sets\n",
    "X_train, X_test, y_train, y_test = train_test_split(\n",
    "    data, labels, test_size=0.25, random_state=50, shuffle=True\n",
    ")\n",
    "\n",
    "y_train = y_train.ravel()\n",
    "y_test = y_test.ravel()"
   ]
  },
  {
   "cell_type": "code",
   "execution_count": 4,
   "metadata": {},
   "outputs": [
    {
     "name": "stdout",
     "output_type": "stream",
     "text": [
      "Nearest Neighbors\n",
      "0.53072\n",
      "RBF SVM\n",
      "0.53704\n",
      "Decision Tree\n",
      "0.55504\n",
      "Random Forest\n",
      "0.50976\n",
      "Neural Net\n",
      "0.50688\n",
      "AdaBoost\n",
      "0.54536\n",
      "Naive Bayes\n",
      "0.49296\n",
      "QDA\n",
      "0.4956\n"
     ]
    },
    {
     "name": "stderr",
     "output_type": "stream",
     "text": [
      "c:\\Users\\German\\.julia\\conda\\3\\x86_64\\lib\\site-packages\\sklearn\\discriminant_analysis.py:935: UserWarning: Variables are collinear\n",
      "  warnings.warn(\"Variables are collinear\")\n"
     ]
    }
   ],
   "source": [
    "# Train all classifiers using data and labels\n",
    "for name, clf in zip(names, classifiers):\n",
    "    if name == \"Linear SVM\": # Does not converge\n",
    "        continue\n",
    "    print(name)\n",
    "    clf.fit(X_train, y_train)\n",
    "    score = clf.score(X_test, y_test)\n",
    "    print(score)"
   ]
  },
  {
   "cell_type": "code",
   "execution_count": 5,
   "metadata": {},
   "outputs": [
    {
     "name": "stdout",
     "output_type": "stream",
     "text": [
      "[0.04215306 0.         0.01534043 0.01595058 0.01673267 0.0167731\n",
      " 0.01590982 0.01687119 0.01660556 0.01606771 0.01654222 0.01671529\n",
      " 0.01611454 0.01675497 0.01605408 0.01606436 0.01658489 0.01636077\n",
      " 0.01663805 0.01584741 0.01579715 0.01624312 0.01628511 0.01617504\n",
      " 0.01637589 0.0164297  0.01624892 0.01668735 0.01670562 0.01656847\n",
      " 0.01550416 0.01586863 0.01627864 0.01668613 0.01614255 0.01654811\n",
      " 0.01649501 0.01608554 0.01617202 0.01591956 0.01583115 0.01641373\n",
      " 0.01595717 0.01615668 0.01585067 0.01614382 0.01557423 0.01531241\n",
      " 0.01574698 0.01653428 0.01630604 0.0162515  0.0155424  0.0166918\n",
      " 0.01623211 0.01605477 0.01639664 0.01670855 0.01599816 0.01676882\n",
      " 0.01623067]\n"
     ]
    }
   ],
   "source": [
    "clf = RandomForestClassifier()\n",
    "clf.fit(X_train, y_train)\n",
    "importances = clf.feature_importances_\n",
    "print(importances)"
   ]
  }
 ],
 "metadata": {
  "kernelspec": {
   "display_name": "Python 3",
   "language": "python",
   "name": "python3"
  },
  "language_info": {
   "codemirror_mode": {
    "name": "ipython",
    "version": 3
   },
   "file_extension": ".py",
   "mimetype": "text/x-python",
   "name": "python",
   "nbconvert_exporter": "python",
   "pygments_lexer": "ipython3",
   "version": "3.10.12"
  }
 },
 "nbformat": 4,
 "nbformat_minor": 2
}
