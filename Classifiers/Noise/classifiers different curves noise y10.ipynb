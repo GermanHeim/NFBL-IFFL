{
 "cells": [
  {
   "cell_type": "code",
   "execution_count": 1,
   "metadata": {},
   "outputs": [],
   "source": [
    "import matplotlib.pyplot as plt\n",
    "import numpy as np\n",
    "import pandas as pd"
   ]
  },
  {
   "cell_type": "code",
   "execution_count": 2,
   "metadata": {},
   "outputs": [],
   "source": [
    "from sklearn.discriminant_analysis import QuadraticDiscriminantAnalysis\n",
    "from sklearn.ensemble import AdaBoostClassifier, RandomForestClassifier\n",
    "from sklearn.gaussian_process import GaussianProcessClassifier\n",
    "from sklearn.gaussian_process.kernels import RBF\n",
    "from sklearn.inspection import DecisionBoundaryDisplay\n",
    "from sklearn.model_selection import train_test_split\n",
    "from sklearn.naive_bayes import GaussianNB\n",
    "from sklearn.neighbors import KNeighborsClassifier\n",
    "from sklearn.neural_network import MLPClassifier\n",
    "from sklearn.pipeline import make_pipeline\n",
    "from sklearn.preprocessing import StandardScaler\n",
    "from sklearn.svm import SVC\n",
    "from sklearn.tree import DecisionTreeClassifier\n",
    "\n",
    "names = [\n",
    "    \"Nearest Neighbors\",\n",
    "    \"Linear SVM\",\n",
    "    \"RBF SVM\",\n",
    "    \"Decision Tree\",\n",
    "    \"Random Forest\",\n",
    "    \"Neural Net\",\n",
    "    \"AdaBoost\",\n",
    "    \"Naive Bayes\",\n",
    "    \"QDA\",\n",
    "]\n",
    "\n",
    "classifiers = [\n",
    "    KNeighborsClassifier(5),\n",
    "    SVC(kernel=\"linear\", C=0.025, random_state=50),\n",
    "    SVC(gamma=2, C=1, random_state=50),\n",
    "    DecisionTreeClassifier(max_depth=5, random_state=50),\n",
    "    RandomForestClassifier(\n",
    "        max_depth=5, n_estimators=10, max_features=1, random_state=50\n",
    "    ),\n",
    "    MLPClassifier(alpha=1, max_iter=1000, random_state=50),\n",
    "    AdaBoostClassifier(algorithm=\"SAMME\", random_state=50),\n",
    "    GaussianNB(),\n",
    "    QuadraticDiscriminantAnalysis(),\n",
    "]"
   ]
  },
  {
   "cell_type": "code",
   "execution_count": 3,
   "metadata": {},
   "outputs": [],
   "source": [
    "# Import data.csv and labels.csv as pandas DataFrames\n",
    "data = pd.read_csv(\"data_dif_curves_noise_y10.csv\", header=None)\n",
    "labels = pd.read_csv(\"labels.csv\", header=None)\n",
    "\n",
    "# Convert DataFrames to numpy arrays\n",
    "data = data.values\n",
    "labels = labels.values\n",
    "\n",
    "# Shuffle the data and labels, split into training and testing sets\n",
    "X_train, X_test, y_train, y_test = train_test_split(\n",
    "    data, labels, test_size=0.25, random_state=50, shuffle=True\n",
    ")\n",
    "\n",
    "y_train = y_train.ravel()\n",
    "y_test = y_test.ravel()"
   ]
  },
  {
   "cell_type": "code",
   "execution_count": 4,
   "metadata": {},
   "outputs": [
    {
     "name": "stdout",
     "output_type": "stream",
     "text": [
      "Nearest Neighbors\n",
      "0.5708\n",
      "RBF SVM\n",
      "0.55832\n",
      "Decision Tree\n",
      "0.57208\n",
      "Random Forest\n",
      "0.52904\n",
      "Neural Net\n",
      "0.51952\n",
      "AdaBoost\n",
      "0.55864\n",
      "Naive Bayes\n",
      "0.49328\n",
      "QDA\n",
      "0.53248\n"
     ]
    },
    {
     "name": "stderr",
     "output_type": "stream",
     "text": [
      "c:\\Users\\German\\.julia\\conda\\3\\x86_64\\lib\\site-packages\\sklearn\\discriminant_analysis.py:935: UserWarning: Variables are collinear\n",
      "  warnings.warn(\"Variables are collinear\")\n"
     ]
    }
   ],
   "source": [
    "# Train all classifiers using data and labels\n",
    "for name, clf in zip(names, classifiers):\n",
    "    if name == \"Linear SVM\": # Does not converge\n",
    "        continue\n",
    "    print(name)\n",
    "    clf.fit(X_train, y_train)\n",
    "    score = clf.score(X_test, y_test)\n",
    "    print(score)"
   ]
  },
  {
   "cell_type": "code",
   "execution_count": 5,
   "metadata": {},
   "outputs": [
    {
     "name": "stdout",
     "output_type": "stream",
     "text": [
      "[0.06289416 0.         0.01519625 0.01620812 0.01739588 0.01725681\n",
      " 0.01631446 0.01638182 0.01627631 0.01651398 0.01645657 0.01677746\n",
      " 0.01639601 0.0160249  0.01653528 0.01635467 0.01547602 0.01539226\n",
      " 0.01576999 0.0157295  0.01578804 0.0160806  0.01538856 0.01660015\n",
      " 0.01603821 0.01577139 0.01574553 0.01596922 0.01664865 0.01610356\n",
      " 0.01541346 0.01561261 0.01599736 0.01593286 0.01550209 0.01540692\n",
      " 0.01540057 0.01615477 0.0154536  0.01555914 0.01571368 0.01561711\n",
      " 0.01539438 0.0153422  0.01561919 0.0157109  0.01544159 0.01548818\n",
      " 0.01546513 0.0158703  0.01629866 0.01541518 0.01617019 0.01597962\n",
      " 0.01586708 0.015733   0.01567241 0.0151569  0.01524584 0.01521663\n",
      " 0.01566409]\n"
     ]
    }
   ],
   "source": [
    "clf = RandomForestClassifier()\n",
    "clf.fit(X_train, y_train)\n",
    "importances = clf.feature_importances_\n",
    "print(importances)"
   ]
  }
 ],
 "metadata": {
  "kernelspec": {
   "display_name": "Python 3",
   "language": "python",
   "name": "python3"
  },
  "language_info": {
   "codemirror_mode": {
    "name": "ipython",
    "version": 3
   },
   "file_extension": ".py",
   "mimetype": "text/x-python",
   "name": "python",
   "nbconvert_exporter": "python",
   "pygments_lexer": "ipython3",
   "version": "3.10.12"
  }
 },
 "nbformat": 4,
 "nbformat_minor": 2
}
