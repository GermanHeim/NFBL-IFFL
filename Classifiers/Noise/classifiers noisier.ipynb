{
 "cells": [
  {
   "cell_type": "code",
   "execution_count": 1,
   "metadata": {},
   "outputs": [],
   "source": [
    "import matplotlib.pyplot as plt\n",
    "import numpy as np\n",
    "import pandas as pd"
   ]
  },
  {
   "cell_type": "code",
   "execution_count": 2,
   "metadata": {},
   "outputs": [],
   "source": [
    "from sklearn.discriminant_analysis import QuadraticDiscriminantAnalysis\n",
    "from sklearn.ensemble import AdaBoostClassifier, RandomForestClassifier\n",
    "from sklearn.gaussian_process import GaussianProcessClassifier\n",
    "from sklearn.gaussian_process.kernels import RBF\n",
    "from sklearn.inspection import DecisionBoundaryDisplay\n",
    "from sklearn.model_selection import train_test_split\n",
    "from sklearn.naive_bayes import GaussianNB\n",
    "from sklearn.neighbors import KNeighborsClassifier\n",
    "from sklearn.neural_network import MLPClassifier\n",
    "from sklearn.pipeline import make_pipeline\n",
    "from sklearn.preprocessing import StandardScaler\n",
    "from sklearn.svm import SVC\n",
    "from sklearn.tree import DecisionTreeClassifier\n",
    "\n",
    "names = [\n",
    "    \"Nearest Neighbors\",\n",
    "    \"Linear SVM\",\n",
    "    \"RBF SVM\",\n",
    "    \"Decision Tree\",\n",
    "    \"Random Forest\",\n",
    "    \"Neural Net\",\n",
    "    \"AdaBoost\",\n",
    "    \"Naive Bayes\",\n",
    "    \"QDA\",\n",
    "]\n",
    "\n",
    "classifiers = [\n",
    "    KNeighborsClassifier(5),\n",
    "    SVC(kernel=\"linear\", C=0.025, random_state=50),\n",
    "    SVC(gamma=2, C=1, random_state=50),\n",
    "    DecisionTreeClassifier(max_depth=5, random_state=50),\n",
    "    RandomForestClassifier(\n",
    "        max_depth=5, n_estimators=10, max_features=1, random_state=50\n",
    "    ),\n",
    "    MLPClassifier(alpha=1, max_iter=1000, random_state=50),\n",
    "    AdaBoostClassifier(algorithm=\"SAMME\", random_state=50),\n",
    "    GaussianNB(),\n",
    "    QuadraticDiscriminantAnalysis(),\n",
    "]"
   ]
  },
  {
   "cell_type": "code",
   "execution_count": 3,
   "metadata": {},
   "outputs": [],
   "source": [
    "# Import data.csv and labels.csv as pandas DataFrames\n",
    "data = pd.read_csv(\"data_noisier.csv\", header=None)\n",
    "labels = pd.read_csv(\"labels.csv\", header=None)\n",
    "\n",
    "# Convert DataFrames to numpy arrays\n",
    "data = data.values\n",
    "labels = labels.values\n",
    "\n",
    "# Only use X values\n",
    "data = data[:, 2:]\n",
    "\n",
    "# Shuffle the data and labels, split into training and testing sets\n",
    "X_train, X_test, y_train, y_test = train_test_split(\n",
    "    data, labels, test_size=0.25, random_state=50, shuffle=True\n",
    ")\n",
    "\n",
    "y_train = y_train.ravel()\n",
    "y_test = y_test.ravel()"
   ]
  },
  {
   "cell_type": "code",
   "execution_count": 4,
   "metadata": {},
   "outputs": [
    {
     "name": "stdout",
     "output_type": "stream",
     "text": [
      "Nearest Neighbors\n",
      "0.59704\n",
      "Linear SVM\n",
      "0.49704\n",
      "RBF SVM\n",
      "0.72808\n",
      "Decision Tree\n",
      "0.52664\n",
      "Random Forest\n",
      "0.58488\n",
      "Neural Net\n",
      "0.4548\n",
      "AdaBoost\n",
      "0.5532\n",
      "Naive Bayes\n",
      "0.6536\n",
      "QDA\n",
      "0.76512\n"
     ]
    },
    {
     "name": "stderr",
     "output_type": "stream",
     "text": [
      "c:\\Users\\German\\.julia\\conda\\3\\x86_64\\lib\\site-packages\\sklearn\\discriminant_analysis.py:935: UserWarning: Variables are collinear\n",
      "  warnings.warn(\"Variables are collinear\")\n"
     ]
    }
   ],
   "source": [
    "# Train all classifiers using data and labels\n",
    "for name, clf in zip(names, classifiers):\n",
    "    print(name)\n",
    "    clf.fit(X_train, y_train)\n",
    "    score = clf.score(X_test, y_test)\n",
    "    print(score)"
   ]
  },
  {
   "cell_type": "code",
   "execution_count": 5,
   "metadata": {},
   "outputs": [
    {
     "name": "stdout",
     "output_type": "stream",
     "text": [
      "[0.         0.01605525 0.01756601 0.01684017 0.01821877 0.01697249\n",
      " 0.01739057 0.01736497 0.01741201 0.01795551 0.01718037 0.01716745\n",
      " 0.01773014 0.0175164  0.01750978 0.01695583 0.01710599 0.0164928\n",
      " 0.01653788 0.01721091 0.01699521 0.01670174 0.01632246 0.01699631\n",
      " 0.01705592 0.01645003 0.01763475 0.01693768 0.01670189 0.01663383\n",
      " 0.01661601 0.01657144 0.01661496 0.01675687 0.01695298 0.01656975\n",
      " 0.0173916  0.01677239 0.01699198 0.01663775 0.01749621 0.01683105\n",
      " 0.01690705 0.01739378 0.01744982 0.01654376 0.01666831 0.01692126\n",
      " 0.01685211 0.01715785 0.0164827  0.01718442 0.01752401 0.01743882\n",
      " 0.01671301 0.01617213 0.01613901 0.01649426 0.01620679 0.01593484]\n"
     ]
    }
   ],
   "source": [
    "clf = RandomForestClassifier()\n",
    "clf.fit(X_train, y_train)\n",
    "importances = clf.feature_importances_\n",
    "print(importances)"
   ]
  }
 ],
 "metadata": {
  "kernelspec": {
   "display_name": "Python 3",
   "language": "python",
   "name": "python3"
  },
  "language_info": {
   "codemirror_mode": {
    "name": "ipython",
    "version": 3
   },
   "file_extension": ".py",
   "mimetype": "text/x-python",
   "name": "python",
   "nbconvert_exporter": "python",
   "pygments_lexer": "ipython3",
   "version": "3.10.12"
  }
 },
 "nbformat": 4,
 "nbformat_minor": 2
}
