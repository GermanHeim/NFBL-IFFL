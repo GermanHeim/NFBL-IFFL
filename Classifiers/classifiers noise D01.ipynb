{
 "cells": [
  {
   "cell_type": "code",
   "execution_count": 1,
   "metadata": {},
   "outputs": [],
   "source": [
    "import matplotlib.pyplot as plt\n",
    "import numpy as np\n",
    "import pandas as pd"
   ]
  },
  {
   "cell_type": "code",
   "execution_count": 2,
   "metadata": {},
   "outputs": [],
   "source": [
    "from sklearn.discriminant_analysis import QuadraticDiscriminantAnalysis\n",
    "from sklearn.ensemble import AdaBoostClassifier, RandomForestClassifier\n",
    "from sklearn.gaussian_process import GaussianProcessClassifier\n",
    "from sklearn.gaussian_process.kernels import RBF\n",
    "from sklearn.inspection import DecisionBoundaryDisplay\n",
    "from sklearn.model_selection import train_test_split\n",
    "from sklearn.naive_bayes import GaussianNB\n",
    "from sklearn.neighbors import KNeighborsClassifier\n",
    "from sklearn.neural_network import MLPClassifier\n",
    "from sklearn.pipeline import make_pipeline\n",
    "from sklearn.preprocessing import StandardScaler\n",
    "from sklearn.svm import SVC\n",
    "from sklearn.tree import DecisionTreeClassifier\n",
    "\n",
    "names = [\n",
    "    \"Nearest Neighbors\",\n",
    "    \"Linear SVM\",\n",
    "    \"RBF SVM\",\n",
    "    \"Decision Tree\",\n",
    "    \"Random Forest\",\n",
    "    \"Neural Net\",\n",
    "    \"AdaBoost\",\n",
    "    \"Naive Bayes\",\n",
    "    \"QDA\",\n",
    "]\n",
    "\n",
    "classifiers = [\n",
    "    KNeighborsClassifier(5),\n",
    "    SVC(kernel=\"linear\", C=0.025, random_state=50),\n",
    "    SVC(gamma=2, C=1, random_state=50),\n",
    "    DecisionTreeClassifier(max_depth=5, random_state=50),\n",
    "    RandomForestClassifier(\n",
    "        max_depth=5, n_estimators=10, max_features=1, random_state=50\n",
    "    ),\n",
    "    MLPClassifier(alpha=1, max_iter=1000, random_state=50),\n",
    "    AdaBoostClassifier(algorithm=\"SAMME\", random_state=50),\n",
    "    GaussianNB(),\n",
    "    QuadraticDiscriminantAnalysis(),\n",
    "]"
   ]
  },
  {
   "cell_type": "code",
   "execution_count": 3,
   "metadata": {},
   "outputs": [],
   "source": [
    "# Import data.csv and labels.csv as pandas DataFrames\n",
    "data = pd.read_csv(\"data_noise_D_01.csv\")\n",
    "labels = pd.read_csv(\"labels.csv\")\n",
    "\n",
    "# Convert DataFrames to numpy arrays\n",
    "data = data.values\n",
    "labels = labels.values\n",
    "\n",
    "# Only use X values\n",
    "data = data[:, 2:]\n",
    "\n",
    "# Shuffle the data and labels, split into training and testing sets\n",
    "X_train, X_test, y_train, y_test = train_test_split(\n",
    "    data, labels, test_size=0.25, random_state=50, shuffle=True\n",
    ")\n",
    "\n",
    "y_train = y_train.ravel()\n",
    "y_test = y_test.ravel()"
   ]
  },
  {
   "cell_type": "code",
   "execution_count": 4,
   "metadata": {},
   "outputs": [
    {
     "name": "stdout",
     "output_type": "stream",
     "text": [
      "Nearest Neighbors\n",
      "0.58992\n",
      "Linear SVM\n",
      "0.49616\n",
      "RBF SVM\n",
      "0.49704\n",
      "Decision Tree\n",
      "0.53096\n",
      "Random Forest\n",
      "0.5656\n",
      "Neural Net\n",
      "0.76216\n",
      "AdaBoost\n",
      "0.5584\n",
      "Naive Bayes\n",
      "0.64872\n",
      "QDA\n",
      "0.77528\n"
     ]
    },
    {
     "name": "stderr",
     "output_type": "stream",
     "text": [
      "c:\\Users\\German\\.julia\\conda\\3\\x86_64\\lib\\site-packages\\sklearn\\discriminant_analysis.py:935: UserWarning: Variables are collinear\n",
      "  warnings.warn(\"Variables are collinear\")\n"
     ]
    }
   ],
   "source": [
    "# Train all classifiers using data and labels\n",
    "for name, clf in zip(names, classifiers):\n",
    "    print(name)\n",
    "    clf.fit(X_train, y_train)\n",
    "    score = clf.score(X_test, y_test)\n",
    "    print(score)"
   ]
  },
  {
   "cell_type": "code",
   "execution_count": 5,
   "metadata": {},
   "outputs": [
    {
     "name": "stdout",
     "output_type": "stream",
     "text": [
      "[0.         0.01573018 0.01758408 0.01807165 0.01643604 0.01820931\n",
      " 0.01781529 0.01740578 0.01818136 0.01795035 0.01749141 0.01761255\n",
      " 0.01741131 0.01771029 0.01681474 0.01697504 0.01637905 0.01804993\n",
      " 0.01630096 0.01685625 0.01606304 0.01683696 0.01693159 0.01687195\n",
      " 0.01673623 0.0170238  0.0163656  0.01617579 0.01594678 0.01669432\n",
      " 0.01647885 0.01714602 0.01611879 0.01648981 0.01702921 0.01679599\n",
      " 0.01711683 0.0174165  0.01696025 0.0174078  0.01794646 0.01679017\n",
      " 0.01728277 0.01753026 0.01704701 0.01718456 0.016921   0.01675463\n",
      " 0.01702841 0.01675899 0.01652156 0.01694603 0.01701844 0.01617211\n",
      " 0.01660719 0.01686091 0.01600313 0.01549033 0.01724411 0.01630024]\n"
     ]
    }
   ],
   "source": [
    "clf = RandomForestClassifier()\n",
    "clf.fit(X_train, y_train)\n",
    "importances = clf.feature_importances_\n",
    "print(importances)"
   ]
  },
  {
   "cell_type": "code",
   "execution_count": 6,
   "metadata": {},
   "outputs": [
    {
     "name": "stderr",
     "output_type": "stream",
     "text": [
      "c:\\Users\\German\\.julia\\conda\\3\\x86_64\\lib\\site-packages\\sklearn\\discriminant_analysis.py:935: UserWarning: Variables are collinear\n",
      "  warnings.warn(\"Variables are collinear\")\n"
     ]
    },
    {
     "name": "stdout",
     "output_type": "stream",
     "text": [
      "[0.         0.00658684 0.00655751 0.00687485 0.00673085 0.00660018\n",
      " 0.00904557 0.0087709  0.00812288 0.00701619 0.00820555 0.0087149\n",
      " 0.00754953 0.00674151 0.00739486 0.00692818 0.00630683 0.00692285\n",
      " 0.0061895  0.00664018 0.00636017 0.0064135  0.00703485 0.0060695\n",
      " 0.00658684 0.00720019 0.00703752 0.00721886 0.00595483 0.00715486\n",
      " 0.00704285 0.00760554 0.00588816 0.00708286 0.00856023 0.00630417\n",
      " 0.00658684 0.00592549 0.00648817 0.00680551 0.0060775  0.00672018\n",
      " 0.00719753 0.00664284 0.00629083 0.0063015  0.00502947 0.00652551\n",
      " 0.00533614 0.00542148 0.00528547 0.00387744 0.00490413 0.00434145\n",
      " 0.00466946 0.00460546 0.00421345 0.00433612 0.00293875 0.00533348]\n"
     ]
    }
   ],
   "source": [
    "from sklearn.inspection import permutation_importance\n",
    "\n",
    "clf = QuadraticDiscriminantAnalysis()\n",
    "clf.fit(X_train, y_train)\n",
    "\n",
    "result = permutation_importance(clf, X_train, y_train, n_repeats=10, random_state=0)\n",
    "importance = result.importances_mean\n",
    "\n",
    "print(importance)"
   ]
  }
 ],
 "metadata": {
  "kernelspec": {
   "display_name": "Python 3",
   "language": "python",
   "name": "python3"
  },
  "language_info": {
   "codemirror_mode": {
    "name": "ipython",
    "version": 3
   },
   "file_extension": ".py",
   "mimetype": "text/x-python",
   "name": "python",
   "nbconvert_exporter": "python",
   "pygments_lexer": "ipython3",
   "version": "3.10.12"
  }
 },
 "nbformat": 4,
 "nbformat_minor": 2
}
