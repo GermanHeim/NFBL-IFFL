{
 "cells": [
  {
   "cell_type": "code",
   "execution_count": 1,
   "metadata": {},
   "outputs": [],
   "source": [
    "import matplotlib.pyplot as plt\n",
    "import numpy as np\n",
    "import pandas as pd"
   ]
  },
  {
   "cell_type": "code",
   "execution_count": 2,
   "metadata": {},
   "outputs": [],
   "source": [
    "from sklearn.discriminant_analysis import QuadraticDiscriminantAnalysis\n",
    "from sklearn.ensemble import AdaBoostClassifier, RandomForestClassifier\n",
    "from sklearn.gaussian_process import GaussianProcessClassifier\n",
    "from sklearn.gaussian_process.kernels import RBF\n",
    "from sklearn.inspection import DecisionBoundaryDisplay\n",
    "from sklearn.model_selection import train_test_split\n",
    "from sklearn.naive_bayes import GaussianNB\n",
    "from sklearn.neighbors import KNeighborsClassifier\n",
    "from sklearn.neural_network import MLPClassifier\n",
    "from sklearn.pipeline import make_pipeline\n",
    "from sklearn.preprocessing import StandardScaler\n",
    "from sklearn.svm import SVC\n",
    "from sklearn.tree import DecisionTreeClassifier\n",
    "\n",
    "names = [\n",
    "    \"Nearest Neighbors\",\n",
    "    \"Linear SVM\",\n",
    "    \"RBF SVM\",\n",
    "    \"Decision Tree\",\n",
    "    \"Random Forest\",\n",
    "    \"Neural Net\",\n",
    "    \"AdaBoost\",\n",
    "    \"Naive Bayes\",\n",
    "    \"QDA\",\n",
    "]\n",
    "\n",
    "classifiers = [\n",
    "    KNeighborsClassifier(5),\n",
    "    SVC(kernel=\"linear\", C=0.025, random_state=50),\n",
    "    SVC(gamma=2, C=1, random_state=50),\n",
    "    DecisionTreeClassifier(max_depth=5, random_state=50),\n",
    "    RandomForestClassifier(\n",
    "        max_depth=5, n_estimators=10, max_features=1, random_state=50\n",
    "    ),\n",
    "    MLPClassifier(alpha=1, max_iter=1000, random_state=50),\n",
    "    AdaBoostClassifier(algorithm=\"SAMME\", random_state=50),\n",
    "    GaussianNB(),\n",
    "    QuadraticDiscriminantAnalysis(),\n",
    "]"
   ]
  },
  {
   "cell_type": "code",
   "execution_count": 3,
   "metadata": {},
   "outputs": [],
   "source": [
    "# Import data.csv and labels.csv as pandas DataFrames\n",
    "data = pd.read_csv(\"data_noise.csv\")\n",
    "labels = pd.read_csv(\"labels.csv\")\n",
    "\n",
    "# Convert DataFrames to numpy arrays\n",
    "data = data.values\n",
    "labels = labels.values\n",
    "\n",
    "# Only use X values\n",
    "data = data[:, 2:]\n",
    "\n",
    "# Shuffle the data and labels, split into training and testing sets\n",
    "X_train, X_test, y_train, y_test = train_test_split(\n",
    "    data, labels, test_size=0.25, random_state=50, shuffle=True\n",
    ")\n",
    "\n",
    "y_train = y_train.ravel()\n",
    "y_test = y_test.ravel()"
   ]
  },
  {
   "cell_type": "code",
   "execution_count": 4,
   "metadata": {},
   "outputs": [
    {
     "name": "stdout",
     "output_type": "stream",
     "text": [
      "Nearest Neighbors\n",
      "0.5936\n",
      "Linear SVM\n",
      "0.49704\n",
      "RBF SVM\n",
      "0.55384\n",
      "Decision Tree\n",
      "0.53192\n",
      "Random Forest\n",
      "0.5716\n",
      "Neural Net\n",
      "0.49704\n",
      "AdaBoost\n",
      "0.564\n",
      "Naive Bayes\n",
      "0.64464\n",
      "QDA\n",
      "0.77336\n"
     ]
    },
    {
     "name": "stderr",
     "output_type": "stream",
     "text": [
      "c:\\Users\\German\\.julia\\conda\\3\\x86_64\\lib\\site-packages\\sklearn\\discriminant_analysis.py:935: UserWarning: Variables are collinear\n",
      "  warnings.warn(\"Variables are collinear\")\n"
     ]
    }
   ],
   "source": [
    "# Train all classifiers using data and labels\n",
    "for name, clf in zip(names, classifiers):\n",
    "    print(name)\n",
    "    clf.fit(X_train, y_train)\n",
    "    score = clf.score(X_test, y_test)\n",
    "    print(score)"
   ]
  },
  {
   "cell_type": "code",
   "execution_count": 5,
   "metadata": {},
   "outputs": [
    {
     "name": "stdout",
     "output_type": "stream",
     "text": [
      "[0.         0.01617123 0.01730383 0.01794876 0.01864187 0.0182957\n",
      " 0.01774159 0.01704051 0.0186595  0.01708377 0.01782629 0.0177088\n",
      " 0.01681326 0.01709075 0.01808667 0.01687666 0.01669378 0.01709658\n",
      " 0.01676677 0.01703496 0.01726388 0.0165886  0.01672913 0.01674627\n",
      " 0.01711153 0.01662723 0.01567108 0.01707317 0.0162974  0.01749466\n",
      " 0.01604268 0.01630442 0.01698903 0.01598368 0.01684101 0.01669616\n",
      " 0.01635695 0.01605252 0.01680558 0.01633127 0.01724025 0.01663679\n",
      " 0.01639492 0.01722809 0.01709056 0.01753977 0.01673566 0.01753871\n",
      " 0.01721672 0.0164602  0.01674076 0.01685231 0.01748878 0.01669496\n",
      " 0.01674411 0.01679231 0.01718204 0.01632682 0.01621555 0.01599316]\n"
     ]
    }
   ],
   "source": [
    "clf = RandomForestClassifier()\n",
    "clf.fit(X_train, y_train)\n",
    "importances = clf.feature_importances_\n",
    "print(importances)"
   ]
  },
  {
   "cell_type": "code",
   "execution_count": 6,
   "metadata": {},
   "outputs": [
    {
     "name": "stderr",
     "output_type": "stream",
     "text": [
      "c:\\Users\\German\\.julia\\conda\\3\\x86_64\\lib\\site-packages\\sklearn\\discriminant_analysis.py:935: UserWarning: Variables are collinear\n",
      "  warnings.warn(\"Variables are collinear\")\n"
     ]
    },
    {
     "name": "stdout",
     "output_type": "stream",
     "text": [
      "[0.         0.00490146 0.00698685 0.00596549 0.00765354 0.00790154\n",
      " 0.00703219 0.0074562  0.00852023 0.00924558 0.00904824 0.0089069\n",
      " 0.00660818 0.00722153 0.00825622 0.00728819 0.0076722  0.00743486\n",
      " 0.00729886 0.00746153 0.00800021 0.00694419 0.00773354 0.00695219\n",
      " 0.00731753 0.00723753 0.0062135  0.00779221 0.00691485 0.00791754\n",
      " 0.00752287 0.00706686 0.00661351 0.00622417 0.0062615  0.00660551\n",
      " 0.00645884 0.00729086 0.0074242  0.00689885 0.00852823 0.00672818\n",
      " 0.00663218 0.0061495  0.00756287 0.0075042  0.00629083 0.00596016\n",
      " 0.00715752 0.00503213 0.00666951 0.0062695  0.00569082 0.00559482\n",
      " 0.00546948 0.00466146 0.00538148 0.00406944 0.00363743 0.00535481]\n"
     ]
    }
   ],
   "source": [
    "from sklearn.inspection import permutation_importance\n",
    "\n",
    "clf = QuadraticDiscriminantAnalysis()\n",
    "clf.fit(X_train, y_train)\n",
    "\n",
    "result = permutation_importance(clf, X_train, y_train, n_repeats=10, random_state=0)\n",
    "importance = result.importances_mean\n",
    "\n",
    "print(importance)"
   ]
  }
 ],
 "metadata": {
  "kernelspec": {
   "display_name": "Python 3",
   "language": "python",
   "name": "python3"
  },
  "language_info": {
   "codemirror_mode": {
    "name": "ipython",
    "version": 3
   },
   "file_extension": ".py",
   "mimetype": "text/x-python",
   "name": "python",
   "nbconvert_exporter": "python",
   "pygments_lexer": "ipython3",
   "version": "3.10.12"
  }
 },
 "nbformat": 4,
 "nbformat_minor": 2
}
