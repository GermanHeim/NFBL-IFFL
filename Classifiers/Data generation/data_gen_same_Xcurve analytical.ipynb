{
 "cells": [
  {
   "cell_type": "code",
   "execution_count": null,
   "metadata": {},
   "outputs": [],
   "source": [
    "# Libraries\n",
    "import random\n",
    "import numpy as np\n",
    "import matplotlib as mpl\n",
    "import matplotlib.pyplot as plt\n",
    "\n",
    "mpl.rcParams[\"axes.spines.right\"] = False\n",
    "mpl.rcParams[\"axes.spines.top\"] = False\n",
    "plt.style.use(\"seaborn-v0_8-whitegrid\")\n",
    "mpl.rcParams['figure.dpi'] = 100\n",
    "mpl.rcParams['savefig.dpi'] = 600\n",
    "\n",
    "# Constants\n",
    "random.seed(0)\n",
    "tf = 60\n",
    "dt = 0.001\n",
    "N = round(tf/dt)\n",
    "t = np.arange(0, tf, dt)\n",
    "\n",
    "c0 = [0, 0]\n",
    "\n",
    "def x_curve(t, k1, k2, k3, k4, xi):\n",
    "    # Solves the system for the given parameters analytically\n",
    "\n",
    "    Ac = 1\n",
    "    eta = Ac\n",
    "    \n",
    "    B = k1 + k4\n",
    "    C = k1*k4 + k2*k3\n",
    "    Q = k4 - k2*xi\n",
    "    \n",
    "    x_raya = Q/C * Ac\n",
    "    eig_1 = -(-B + np.sqrt(B**2 - 4*C))/2\n",
    "    eig_2 = -(-B - np.sqrt(B**2 - 4*C))/2\n",
    "    C1 = (eta - eig_2*x_raya)/(eig_2-eig_1)\n",
    "    C2 = (eta - eig_1*x_raya)/(eig_2-eig_1)\n",
    "    return C1*np.exp(-eig_1*t) - C2*np.exp(-eig_2*t) + x_raya"
   ]
  },
  {
   "cell_type": "markdown",
   "metadata": {},
   "source": [
    "# NFBL"
   ]
  },
  {
   "cell_type": "code",
   "execution_count": null,
   "metadata": {},
   "outputs": [],
   "source": [
    "# xi = 0\n",
    "\n",
    "# Initial curve parameters\n",
    "k1, k2, k3, k4, Ac, xi = 1, 2, 0.05, 0.05, 1, 0\n",
    "\n",
    "B = k1 + k4\n",
    "C = k1*k4 + k2*k3\n",
    "Q = k4\n",
    "\n",
    "# k4 has to be fixed as 1, therefor k1 also has to be fixed as 1\n",
    "total_curves = 50000\n",
    "num_curves = int(total_curves/2)\n",
    "k2_vals = np.random.uniform(0, 3, num_curves)\n",
    "k3_vals = (C - k1*k4)/k2_vals"
   ]
  },
  {
   "cell_type": "code",
   "execution_count": null,
   "metadata": {},
   "outputs": [],
   "source": [
    "# Solve the system for each pair of k2 and k3\n",
    "t = np.arange(0, tf, dt)\n",
    "t_shape = np.shape(t)[0]\n",
    "\n",
    "x = np.empty([num_curves, t_shape])\n",
    "y = np.empty([num_curves, t_shape])\n",
    "\n",
    "for i in range(num_curves):\n",
    "    if i+1 % 10000 == 0:\n",
    "        print(i)\n",
    "    \n",
    "    x[i] = x_curve(t, k1, k2_vals[i], k3_vals[i], k4, xi)"
   ]
  },
  {
   "cell_type": "code",
   "execution_count": null,
   "metadata": {},
   "outputs": [],
   "source": [
    "# Plot X\n",
    "fig, ax = plt.subplots(2, 3, figsize=(20, 10))\n",
    "\n",
    "for i in range(6):\n",
    "    ax[i//3, i%3].plot(t, x[i])\n",
    "    ax[i//3, i%3].set_xlabel('Time [ms]')\n",
    "    ax[i//3, i%3].set_ylabel('x')"
   ]
  },
  {
   "cell_type": "code",
   "execution_count": null,
   "metadata": {},
   "outputs": [],
   "source": [
    "data = np.empty([num_curves*2, tf])\n",
    "\n",
    "t_correction = int(1/dt)\n",
    "indices = np.arange(tf) * t_correction\n",
    "\n",
    "for i in range(num_curves):\n",
    "    data[i] = x[i][indices]"
   ]
  },
  {
   "cell_type": "markdown",
   "metadata": {},
   "source": [
    "# IFFL"
   ]
  },
  {
   "cell_type": "code",
   "execution_count": null,
   "metadata": {},
   "outputs": [],
   "source": [
    "# K3 = 0\n",
    "\n",
    "# B = 1.05\n",
    "# C = 0.15\n",
    "# Q = 0.05\n",
    "\n",
    "# Initial curve parameters\n",
    "K4 = (-B + np.sqrt(B**2 - 4*C)) / (-2)\n",
    "K1 = B - K4\n",
    "K3 = 0\n",
    "\n",
    "B = K1 + K4 # -> K1 = B-K4 -> K1 = 0.8794361719689456\n",
    "C = K1*K4 # -> K4*(B-K4) = C -> 0 = -K4^2 + B*K4 - C -> K4 = 0.1705638280310544\n",
    "Q = 0.05\n",
    "\n",
    "# K1 and K4 have to be fixed to their respective values\n",
    "K2_vals = np.random.uniform(0, 3, num_curves)\n",
    "xi_vals = (K4-Q)/K2_vals\n",
    "\n",
    "print(f\"K1: {K1}, K4: {K4}, B: {B}, C: {C}, Q: {Q}.\")"
   ]
  },
  {
   "cell_type": "code",
   "execution_count": null,
   "metadata": {},
   "outputs": [],
   "source": [
    "# Solve the system for each pair of K2 and xi\n",
    "x = np.empty([num_curves, t_shape])\n",
    "y = np.empty([num_curves, t_shape])\n",
    "\n",
    "for i in range(num_curves):\n",
    "    if i+1 % 10000 == 0:\n",
    "        print(i)\n",
    "    \n",
    "    x[i] = x_curve(t, K1, K2_vals[i], K3, K4, xi_vals[i])"
   ]
  },
  {
   "cell_type": "code",
   "execution_count": null,
   "metadata": {},
   "outputs": [],
   "source": [
    "# Plot X\n",
    "fig, ax = plt.subplots(2, 3, figsize=(20, 10))\n",
    "\n",
    "for i in range(6):\n",
    "    ax[i//3, i%3].plot(t, x[i])\n",
    "    ax[i//3, i%3].set_xlabel('Time [ms]')\n",
    "    ax[i//3, i%3].set_ylabel('x')"
   ]
  },
  {
   "cell_type": "code",
   "execution_count": null,
   "metadata": {},
   "outputs": [],
   "source": [
    "for i in range(num_curves):\n",
    "    data[num_curves+i] = x[i][indices]"
   ]
  },
  {
   "cell_type": "code",
   "execution_count": null,
   "metadata": {},
   "outputs": [],
   "source": [
    "# Create the labels array\n",
    "# 1 NFBL, 0 IFFL\n",
    "labels = np.empty(total_curves)\n",
    "labels[:num_curves] = 1\n",
    "labels[num_curves:] = 0"
   ]
  },
  {
   "cell_type": "code",
   "execution_count": null,
   "metadata": {},
   "outputs": [],
   "source": [
    "# Save the data\n",
    "np.savetxt(\"data_analytical.csv\", data, delimiter=\",\")\n",
    "np.savetxt(\"labels.csv\", labels, delimiter=\",\")"
   ]
  }
 ],
 "metadata": {
  "kernelspec": {
   "display_name": "Python 3",
   "language": "python",
   "name": "python3"
  },
  "language_info": {
   "codemirror_mode": {
    "name": "ipython",
    "version": 3
   },
   "file_extension": ".py",
   "mimetype": "text/x-python",
   "name": "python",
   "nbconvert_exporter": "python",
   "pygments_lexer": "ipython3",
   "version": "3.10.12"
  }
 },
 "nbformat": 4,
 "nbformat_minor": 2
}
